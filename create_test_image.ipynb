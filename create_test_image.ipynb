{
 "cells": [
  {
   "cell_type": "code",
   "execution_count": 1,
   "metadata": {},
   "outputs": [],
   "source": [
    "import json\n",
    "import numpy as np\n",
    "from PIL import Image, ImageFont, ImageDraw, ImageEnhance\n",
    "import matplotlib.pyplot as plt\n",
    "import matplotlib.patches as mpatches\n",
    "from skimage.filters import threshold_otsu\n",
    "from skimage.io import imread\n",
    "from skimage.color import rgb2gray\n",
    "from skimage.measure import label, regionprops\n",
    "import json\n",
    "import os\n",
    "# import uuid\n",
    "import random"
   ]
  },
  {
   "cell_type": "code",
   "execution_count": null,
   "metadata": {},
   "outputs": [],
   "source": [
    "labels = os.path.join('training_data','test.json')\n",
    "count = 1\n",
    "with open(labels,'r') as json_file:\n",
    "    datas = json.load(json_file)\n",
    "    for data in datas:\n",
    "        img_name = data['image']['pathname']\n",
    "        names = img_name.split('/')\n",
    "        result = os.path.join('training_data',names[1],names[2])\n",
    "        cmd = \"copy \" + result + \" \" + str(count) + \".jpg\"\n",
    "        os.system(cmd)\n",
    "        objects = data['objects']\n",
    "        count += 1\n",
    "        print(result)"
   ]
  },
  {
   "cell_type": "code",
   "execution_count": 2,
   "metadata": {},
   "outputs": [],
   "source": [
    "labels = os.path.join('training_data','test.json')\n",
    "count = 1\n",
    "countP = 0\n",
    "with open(labels,'r') as json_file:\n",
    "    datas = json.load(json_file)\n",
    "    for data in datas:\n",
    "        img_name = data['image']['pathname']\n",
    "        names = img_name.split('/')\n",
    "        result = os.path.join('training_data',names[1],names[2])\n",
    "        img = Image.open(result)\n",
    "        objects = data['objects']\n",
    "        for obj in objects:\n",
    "            minr = obj['bounding_box']['minimum']['r']\n",
    "            minc = obj['bounding_box']['minimum']['c']\n",
    "            maxr = obj['bounding_box']['maximum']['r']\n",
    "            maxc = obj['bounding_box']['maximum']['c']\n",
    "            category = obj['category']\n",
    "            if category == \"ring\" or category == \"trophozoite\" or category == \"schizont\" or category == \"gametocyte\":\n",
    "                draw = ImageDraw.Draw(img)\n",
    "                draw.rectangle((minc, minr,maxc,maxr), fill=None,outline=\"red\",width=5)\n",
    "                countP = countP + 1\n",
    "        save_path = os.path.join('test','labeled',str(count)+ \"-label\" + \".jpg\")\n",
    "        img.save(save_path)\n",
    "        count += 1\n",
    "#         break"
   ]
  },
  {
   "cell_type": "code",
   "execution_count": 3,
   "metadata": {},
   "outputs": [
    {
     "name": "stdout",
     "output_type": "stream",
     "text": [
      "303\n"
     ]
    }
   ],
   "source": [
    "print(countP)"
   ]
  },
  {
   "cell_type": "code",
   "execution_count": null,
   "metadata": {},
   "outputs": [],
   "source": []
  }
 ],
 "metadata": {
  "kernelspec": {
   "display_name": "Python 3",
   "language": "python",
   "name": "python3"
  },
  "language_info": {
   "codemirror_mode": {
    "name": "ipython",
    "version": 3
   },
   "file_extension": ".py",
   "mimetype": "text/x-python",
   "name": "python",
   "nbconvert_exporter": "python",
   "pygments_lexer": "ipython3",
   "version": "3.7.3"
  }
 },
 "nbformat": 4,
 "nbformat_minor": 2
}
