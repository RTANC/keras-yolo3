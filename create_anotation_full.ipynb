{
 "cells": [
  {
   "cell_type": "code",
   "execution_count": 1,
   "metadata": {},
   "outputs": [],
   "source": [
    "# import json\n",
    "import numpy as np\n",
    "import matplotlib.pyplot as plt\n",
    "import matplotlib.patches as mpatches\n",
    "# from skimage.filters import threshold_otsu\n",
    "# from skimage.io import imread\n",
    "# from skimage.color import rgb2gray\n",
    "# from skimage.measure import label, regionprops\n",
    "import json\n",
    "import os\n",
    "# import uuid\n",
    "from PIL import Image, ImageFont, ImageDraw, ImageEnhance\n",
    "import random"
   ]
  },
  {
   "cell_type": "code",
   "execution_count": null,
   "metadata": {},
   "outputs": [],
   "source": [
    "# labels = os.path.join('training_data','training.json')\n",
    "# train_path = '2012_train_all.txt'\n",
    "# f = open(train_path,'w')\n",
    "# result = \"\"\n",
    "# with open(labels,'r') as json_file:\n",
    "#     datas = json.load(json_file)\n",
    "#     for data in datas:\n",
    "#         img_name = data['image']['pathname']\n",
    "#         names = img_name.split('/')\n",
    "#         result += \"\\n\" + os.path.join('training_data',names[1],names[2])\n",
    "#         objects = data['objects']\n",
    "#         for obj in objects:\n",
    "#             minr = obj['bounding_box']['minimum']['r']\n",
    "#             minc = obj['bounding_box']['minimum']['c']\n",
    "#             maxr = obj['bounding_box']['maximum']['r']\n",
    "#             maxc = obj['bounding_box']['maximum']['c']\n",
    "#             category = obj['category']\n",
    "#             if (category == \"red blood cell\" or category == \"leukocyte\"):\n",
    "#                 box1 = ' '+str(minc)+','+str(minr)+','+str(maxc)+','+str(maxr)+',0'\n",
    "#                 result += box1\n",
    "#             elif category == \"ring\" or category == \"trophozoite\" or category == \"schizont\" or category == \"gametocyte\":\n",
    "#                 box1 = ' '+str(minc)+','+str(minr)+','+str(maxc)+','+str(maxr)+',1'\n",
    "#                 result += box1\n",
    "# print(result)\n",
    "# f.write(result)\n",
    "# f.close()"
   ]
  },
  {
   "cell_type": "code",
   "execution_count": 13,
   "metadata": {},
   "outputs": [
    {
     "name": "stdout",
     "output_type": "stream",
     "text": [
      "Images: 7248\n",
      "Infected Cell: 12894\n",
      "Normal Cell: 465138\n"
     ]
    }
   ],
   "source": [
    "#Imbalance\n",
    "f = open('2012_train_all.txt','r')\n",
    "lines = list(f)\n",
    "f.close()\n",
    "print(\"Images: %d\" % (len(lines)))\n",
    "cellP = 0\n",
    "cellN = 0\n",
    "for line in lines:\n",
    "    bbs = line.split()[1:]\n",
    "    for bb in bbs:\n",
    "        if bb[-1:] == \"1\":\n",
    "            cellP += 1\n",
    "        elif bb[-1:] == \"0\":\n",
    "            cellN += 1\n",
    "print(\"Infected Cell: %d\" % (cellP))\n",
    "print(\"Normal Cell: %d\" % (cellN))"
   ]
  },
  {
   "cell_type": "code",
   "execution_count": 14,
   "metadata": {},
   "outputs": [],
   "source": [
    "def reset(percent=3):\n",
    "    return random.randrange(100) < percent"
   ]
  },
  {
   "cell_type": "code",
   "execution_count": 20,
   "metadata": {},
   "outputs": [
    {
     "name": "stdout",
     "output_type": "stream",
     "text": [
      "Infected Cell: 12894\n",
      "Normal Cell: 13803\n"
     ]
    }
   ],
   "source": [
    "f = open('2012_train_all.txt','r')\n",
    "lines = list(f)\n",
    "f.close()\n",
    "# print(\"Images: %d\" % (len(lines)))\n",
    "f = open('2012_train.txt','w')\n",
    "cellP = 0\n",
    "cellN = 0\n",
    "for line in lines:\n",
    "    bbs = line.split()\n",
    "    ll = \"\\n\" + bbs[0]\n",
    "    for bb in bbs[1:]:\n",
    "        if bb[-1:] == \"1\":\n",
    "            ll += \" \" + bb\n",
    "            cellP += 1\n",
    "        elif bb[-1:] == \"0\" and reset():\n",
    "            ll += \" \" + bb\n",
    "            cellN += 1\n",
    "    f.write(ll)\n",
    "f.close()\n",
    "print(\"Infected Cell: %d\" % (cellP))\n",
    "print(\"Normal Cell: %d\" % (cellN))"
   ]
  },
  {
   "cell_type": "code",
   "execution_count": null,
   "metadata": {},
   "outputs": [],
   "source": []
  }
 ],
 "metadata": {
  "kernelspec": {
   "display_name": "Python 3",
   "language": "python",
   "name": "python3"
  },
  "language_info": {
   "codemirror_mode": {
    "name": "ipython",
    "version": 3
   },
   "file_extension": ".py",
   "mimetype": "text/x-python",
   "name": "python",
   "nbconvert_exporter": "python",
   "pygments_lexer": "ipython3",
   "version": "3.7.3"
  }
 },
 "nbformat": 4,
 "nbformat_minor": 2
}
