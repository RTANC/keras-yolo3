{
 "cells": [
  {
   "cell_type": "code",
   "execution_count": 6,
   "metadata": {
    "colab": {},
    "colab_type": "code",
    "id": "S1A5oQosLGYb"
   },
   "outputs": [],
   "source": [
    "# import json\n",
    "import numpy as np\n",
    "import matplotlib.pyplot as plt\n",
    "import matplotlib.patches as mpatches\n",
    "# from skimage.filters import threshold_otsu\n",
    "# from skimage.io import imread\n",
    "# from skimage.color import rgb2gray\n",
    "# from skimage.measure import label, regionprops\n",
    "import json\n",
    "import os\n",
    "# import uuid\n",
    "from PIL import Image\n",
    "import random"
   ]
  },
  {
   "cell_type": "code",
   "execution_count": 7,
   "metadata": {},
   "outputs": [],
   "source": [
    "def reset(percent=3):\n",
    "    return random.randrange(100) < percent"
   ]
  },
  {
   "cell_type": "code",
   "execution_count": 8,
   "metadata": {},
   "outputs": [
    {
     "name": "stderr",
     "output_type": "stream",
     "text": [
      "IOPub data rate exceeded.\n",
      "The notebook server will temporarily stop sending output\n",
      "to the client in order to avoid crashing it.\n",
      "To change this limit, set the config variable\n",
      "`--NotebookApp.iopub_data_rate_limit`.\n",
      "\n",
      "Current values:\n",
      "NotebookApp.iopub_data_rate_limit=1000000.0 (bytes/sec)\n",
      "NotebookApp.rate_limit_window=3.0 (secs)\n",
      "\n"
     ]
    }
   ],
   "source": [
    "labels = os.path.join('training_data','training.json')\n",
    "train_path = \"2012_train_all.txt\"\n",
    "countP = 0\n",
    "countN = 0\n",
    "result = \"\"\n",
    "with open(labels,'r') as json_file:\n",
    "    datas = json.load(json_file)\n",
    "    for data in datas:\n",
    "        img_name = data['image']['pathname']\n",
    "        names = img_name.split('/')\n",
    "        result += \"\\n\" + os.path.join('training_data',names[1],names[2])\n",
    "        objects = data['objects']\n",
    "        countEP = 0\n",
    "        countEN = 0\n",
    "        for obj in objects:\n",
    "            minr = obj['bounding_box']['minimum']['r']\n",
    "            minc = obj['bounding_box']['minimum']['c']\n",
    "            maxr = obj['bounding_box']['maximum']['r']\n",
    "            maxc = obj['bounding_box']['maximum']['c']\n",
    "            category = obj['category']\n",
    "            if (category == \"red blood cell\" or category == \"leukocyte\"):\n",
    "                box1 = ' '+str(minc)+','+str(minr)+','+str(maxc)+','+str(maxr)+',0'\n",
    "                result += box1\n",
    "                countEN += 1\n",
    "            elif category == \"ring\" or category == \"trophozoite\" or category == \"schizont\" or category == \"gametocyte\":\n",
    "                box1 = ' '+str(minc)+','+str(minr)+','+str(maxc)+','+str(maxr)+',1'\n",
    "                result += box1\n",
    "                countEP += 1\n",
    "        countN += countEN\n",
    "        countP += countEP\n",
    "\n",
    "#45deg\n",
    "f = open(os.path.join('training_data','images','45','2012_train.txt'),'r')\n",
    "lines = list(f)\n",
    "f.close()\n",
    "for line in lines:\n",
    "    result += line\n",
    "\n",
    "#90deg\n",
    "f = open(os.path.join('training_data','images','90','2012_train.txt'),'r')\n",
    "lines = list(f)\n",
    "f.close()\n",
    "for line in lines:\n",
    "    result += line\n",
    "    \n",
    "#135deg\n",
    "f = open(os.path.join('training_data','images','135','2012_train.txt'),'r')\n",
    "lines = list(f)\n",
    "f.close()\n",
    "for line in lines:\n",
    "    result += line\n",
    "    \n",
    "#180deg\n",
    "f = open(os.path.join('training_data','images','180','2012_train.txt'),'r')\n",
    "lines = list(f)\n",
    "f.close()\n",
    "for line in lines:\n",
    "    result += line\n",
    "\n",
    "#225deg\n",
    "f = open(os.path.join('training_data','images','225','2012_train.txt'),'r')\n",
    "lines = list(f)\n",
    "f.close()\n",
    "for line in lines:\n",
    "    result += line\n",
    "    \n",
    "\n",
    "print(result)\n",
    "f = open(train_path,'w')\n",
    "f.write(result)\n",
    "f.close()"
   ]
  },
  {
   "cell_type": "code",
   "execution_count": null,
   "metadata": {},
   "outputs": [],
   "source": [
    "print(countN)\n",
    "print(countP)"
   ]
  },
  {
   "cell_type": "code",
   "execution_count": null,
   "metadata": {},
   "outputs": [],
   "source": []
  }
 ],
 "metadata": {
  "accelerator": "GPU",
  "colab": {
   "collapsed_sections": [],
   "name": "create_anotation.ipynb",
   "provenance": [],
   "version": "0.3.2"
  },
  "kernelspec": {
   "display_name": "Python 3",
   "language": "python",
   "name": "python3"
  },
  "language_info": {
   "codemirror_mode": {
    "name": "ipython",
    "version": 3
   },
   "file_extension": ".py",
   "mimetype": "text/x-python",
   "name": "python",
   "nbconvert_exporter": "python",
   "pygments_lexer": "ipython3",
   "version": "3.7.3"
  }
 },
 "nbformat": 4,
 "nbformat_minor": 1
}
