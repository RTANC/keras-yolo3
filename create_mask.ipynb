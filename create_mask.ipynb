{
 "cells": [
  {
   "cell_type": "code",
   "execution_count": 1,
   "metadata": {},
   "outputs": [],
   "source": [
    "# import json\n",
    "import numpy as np\n",
    "import matplotlib.pyplot as plt\n",
    "import matplotlib.patches as mpatches\n",
    "from skimage.filters import threshold_otsu\n",
    "from skimage.io import imread, imsave\n",
    "from skimage.color import rgb2gray\n",
    "from skimage.measure import label, regionprops\n",
    "import json\n",
    "import os\n",
    "import uuid\n",
    "from PIL import Image\n",
    "import random\n",
    "import math"
   ]
  },
  {
   "cell_type": "code",
   "execution_count": 25,
   "metadata": {},
   "outputs": [
    {
     "name": "stdout",
     "output_type": "stream",
     "text": [
      "0\n"
     ]
    }
   ],
   "source": [
    "print(int(math.cos(1.5707963268)))"
   ]
  },
  {
   "cell_type": "code",
   "execution_count": 30,
   "metadata": {},
   "outputs": [
    {
     "name": "stdout",
     "output_type": "stream",
     "text": [
      "1.5707963267948966\n"
     ]
    },
    {
     "name": "stderr",
     "output_type": "stream",
     "text": [
      "Lossy conversion from uint32 to uint8. Losing 24 bits of resolution. Convert image to uint8 prior to saving to suppress this warning.\n"
     ]
    }
   ],
   "source": [
    "labels = os.path.join('training_data','training.json')\n",
    "countP = 0\n",
    "countN = 0\n",
    "result = \"\"\n",
    "with open(labels,'r') as json_file:\n",
    "    datas = json.load(json_file)\n",
    "    for data in datas:\n",
    "        img_name = data['image']['pathname']\n",
    "        w = data['image']['shape']['c']\n",
    "        h = data['image']['shape']['r']\n",
    "        names = img_name.split('/')\n",
    "        img = imread(os.path.join('training_data','images',names[2]))\n",
    "        mask = np.zeros((h,w,3),dtype=np.uint32)\n",
    "        deg = 90\n",
    "        rad = (deg * math.pi) / 180\n",
    "        print(rad)\n",
    "        for x in range(w):\n",
    "            for y in range(h):\n",
    "                xi = x*int(math.cos(rad))+y*int(math.sin(rad))\n",
    "                yi = (-1*x)*int(math.sin(rad))+y*int(math.cos(rad))\n",
    "                xi = xi if xi >= 0 else 0\n",
    "                yi = yi if yi >= 0 else 0\n",
    "#                 print(\"x: \"+str(x)+\",y: \"+str(y))\n",
    "                mask[yi,xi,0] = img[y,x,0]\n",
    "                mask[yi,xi,1] = img[y,x,1]\n",
    "                mask[yi,xi,2] = img[y,x,2]\n",
    "        objects = data['objects']\n",
    "        pr\n",
    "        imsave(os.path.join('training_data','mask_0',names[2]),mask)\n",
    "        break"
   ]
  },
  {
   "cell_type": "code",
   "execution_count": null,
   "metadata": {},
   "outputs": [],
   "source": [
    "labels = os.path.join('training_data','training.json')\n",
    "countP = 0\n",
    "countN = 0\n",
    "result = \"\"\n",
    "with open(labels,'r') as json_file:\n",
    "    datas = json.load(json_file)\n",
    "    for data in datas:\n",
    "        img_name = data['image']['pathname']\n",
    "        w = data['image']['shape']['c']\n",
    "        h = data['image']['shape']['r']\n",
    "        mask = np.zeros((w,h),dtype=np.int8)\n",
    "        names = img_name.split('/')\n",
    "        result += \"\\n\" + os.path.join('training_data',names[1],names[2])\n",
    "        objects = data['objects']\n",
    "        countEP = 0\n",
    "        countEN = 0\n",
    "        for obj in objects:\n",
    "            minr = obj['bounding_box']['minimum']['r']\n",
    "            minc = obj['bounding_box']['minimum']['c']\n",
    "            maxr = obj['bounding_box']['maximum']['r']\n",
    "            maxc = obj['bounding_box']['maximum']['c']\n",
    "            category = obj['category']\n",
    "            if (category == \"red blood cell\" or category == \"leukocyte\"):\n",
    "                box1 = ' '+str(minc)+','+str(minr)+','+str(maxc)+','+str(maxr)+',0'\n",
    "                mask[minr:maxr,minc:maxc] = 1\n",
    "                result += box1\n",
    "                countEN += 1\n",
    "        countN += countEN\n",
    "        countP += countEP\n",
    "        imsave(os.path.join('training_data','mask_0',names[2]),mask)"
   ]
  },
  {
   "cell_type": "code",
   "execution_count": null,
   "metadata": {},
   "outputs": [],
   "source": [
    "with open(labels,'r') as json_file:\n",
    "    datas = json.load(json_file)\n",
    "    for data in datas:\n",
    "        img_name = data['image']['pathname']\n",
    "        w = data['image']['shape']['c']\n",
    "        h = data['image']['shape']['r']\n",
    "        names = img_name.split('/')\n",
    "        result += \"\\n\" + os.path.join('training_data',names[1],names[2])\n",
    "        objects = data['objects']\n",
    "        countEP = 0\n",
    "        countEN = 0\n",
    "        for obj in objects:\n",
    "            minr = obj['bounding_box']['minimum']['r']\n",
    "            minc = obj['bounding_box']['minimum']['c']\n",
    "            maxr = obj['bounding_box']['maximum']['r']\n",
    "            maxc = obj['bounding_box']['maximum']['c']\n",
    "            category = obj['category']\n",
    "            if category == \"ring\" or category == \"trophozoite\" or category == \"schizont\" or category == \"gametocyte\":\n",
    "                box1 = ' '+str(minc)+','+str(minr)+','+str(maxc)+','+str(maxr)+',1'\n",
    "                result += box1\n",
    "                countEP += 1\n",
    "        countN += countEN\n",
    "        countP += countEP\n",
    "print(result)"
   ]
  }
 ],
 "metadata": {
  "kernelspec": {
   "display_name": "Python 3",
   "language": "python",
   "name": "python3"
  },
  "language_info": {
   "codemirror_mode": {
    "name": "ipython",
    "version": 3
   },
   "file_extension": ".py",
   "mimetype": "text/x-python",
   "name": "python",
   "nbconvert_exporter": "python",
   "pygments_lexer": "ipython3",
   "version": "3.7.3"
  }
 },
 "nbformat": 4,
 "nbformat_minor": 2
}
